{
 "cells": [
  {
   "cell_type": "code",
   "execution_count": 1,
   "metadata": {},
   "outputs": [],
   "source": [
    "from pyspark import SparkConf,SparkContext\n",
    "from pyspark.streaming import StreamingContext\n",
    "from pyspark.sql import Row,SQLContext\n",
    "import requests"
   ]
  },
  {
   "cell_type": "code",
   "execution_count": 3,
   "metadata": {},
   "outputs": [],
   "source": [
    "def get_sql_context_instance(spark_context):\n",
    "\tif ('sqlContextSingletonInstance' not in globals()):\n",
    "        globals()['sqlContextSingletonInstance'] = SQLContext(spark_context)\n",
    "    return globals()['sqlContextSingletonInstance']\n",
    "\n",
    "def aggregate_tags_count(new_values, total_sum):\n",
    "    '''Ajoute le nombre de hashtags du delta à la valeur totale déjà existante'''\n",
    "    return sum(new_values) + (total_sum or 0)\n",
    "\n",
    "def process_rdd(time, rdd):\n",
    "    print(\"----------- %s -----------\" % str(time))\n",
    "    try:\n",
    "        sql_context = get_sql_context_instance(rdd.context)\n",
    "        # On met les données dans une ligne et on en fait une df\n",
    "        row_rdd = rdd.map(lambda w: Row(hashtag=w[0], hashtag_count=w[1]))\n",
    "        hashtags_df = sql_context.createDataFrame(row_rdd)\n",
    "        hashtags_df.registerTempTable(\"hashtags\")\n",
    "        # Top 10 des hashtag\n",
    "        hashtag_counts_df = sql_context.sql(\"select hashtag, hashtag_count from hashtags order by hashtag_count desc limit 10\")\n",
    "        hashtag_counts_df.show()\n",
    "    except:\n",
    "    \te = sys.exc_info()[0]\n",
    "    \tprint(\"Error: %s\" % e)\n"
   ]
  },
  {
   "cell_type": "code",
   "execution_count": 7,
   "metadata": {},
   "outputs": [
    {
     "ename": "AttributeError",
     "evalue": "'list' object has no attribute 'map'",
     "output_type": "error",
     "traceback": [
      "\u001b[0;31m---------------------------------------------------------------------------\u001b[0m",
      "\u001b[0;31mAttributeError\u001b[0m                            Traceback (most recent call last)",
      "\u001b[0;32m<ipython-input-7-1662c785db9e>\u001b[0m in \u001b[0;36m<module>\u001b[0;34m\u001b[0m\n\u001b[1;32m     15\u001b[0m \u001b[0mnb_stored_hashtags\u001b[0m \u001b[0;34m=\u001b[0m \u001b[0mlen\u001b[0m\u001b[0;34m(\u001b[0m\u001b[0mhashtags_totals\u001b[0m\u001b[0;34m)\u001b[0m\u001b[0;34m\u001b[0m\u001b[0;34m\u001b[0m\u001b[0m\n\u001b[1;32m     16\u001b[0m \u001b[0;31m#Input normalement depuis un stream kafka (apres processing eventuel)\u001b[0m\u001b[0;34m\u001b[0m\u001b[0;34m\u001b[0m\u001b[0;34m\u001b[0m\u001b[0m\n\u001b[0;32m---> 17\u001b[0;31m \u001b[0mhashtags_input\u001b[0m \u001b[0;34m=\u001b[0m \u001b[0;34m[\u001b[0m\u001b[0;34m\"#1\"\u001b[0m\u001b[0;34m,\u001b[0m\u001b[0;34m\"#5\"\u001b[0m\u001b[0;34m,\u001b[0m\u001b[0;34m\"#5\"\u001b[0m\u001b[0;34m,\u001b[0m\u001b[0;34m\"#5\"\u001b[0m\u001b[0;34m,\u001b[0m\u001b[0;34m\"#5\"\u001b[0m\u001b[0;34m,\u001b[0m\u001b[0;34m\"#4\"\u001b[0m\u001b[0;34m,\u001b[0m\u001b[0;34m\"#4\"\u001b[0m\u001b[0;34m,\u001b[0m\u001b[0;34m\"#4\"\u001b[0m\u001b[0;34m,\u001b[0m\u001b[0;34m\"#4\"\u001b[0m\u001b[0;34m,\u001b[0m\u001b[0;34m\"#2\"\u001b[0m\u001b[0;34m,\u001b[0m\u001b[0;34m\"#3\"\u001b[0m\u001b[0;34m,\u001b[0m\u001b[0;34m\"#3\"\u001b[0m\u001b[0;34m,\u001b[0m\u001b[0;34m\"#4\"\u001b[0m\u001b[0;34m,\u001b[0m\u001b[0;34m\"#3\"\u001b[0m\u001b[0;34m,\u001b[0m\u001b[0;34m\"#2\"\u001b[0m\u001b[0;34m,\u001b[0m\u001b[0;34m\"#6\"\u001b[0m\u001b[0;34m]\u001b[0m\u001b[0;34m.\u001b[0m\u001b[0mmap\u001b[0m\u001b[0;34m(\u001b[0m\u001b[0mFirstUpperCase\u001b[0m\u001b[0;34m)\u001b[0m\u001b[0;34m\u001b[0m\u001b[0;34m\u001b[0m\u001b[0m\n\u001b[0m\u001b[1;32m     18\u001b[0m \u001b[0;34m\u001b[0m\u001b[0m\n\u001b[1;32m     19\u001b[0m \u001b[0;31m# On ajoute les nouveaux tags à la somme des précendents\u001b[0m\u001b[0;34m\u001b[0m\u001b[0;34m\u001b[0m\u001b[0;34m\u001b[0m\u001b[0m\n",
      "\u001b[0;31mAttributeError\u001b[0m: 'list' object has no attribute 'map'"
     ]
    }
   ],
   "source": [
    "\n",
    "\n",
    "# Configuration Spark\n",
    "conf = SparkConf()\n",
    "conf.setAppName(\"Twitter-Analytics\")\n",
    "sc = SparkContext(conf=conf)\n",
    "sql_context = SQLContext(sc)\n",
    "\n",
    "# Configuration Spark Streaming, update toutes les 2s\n",
    "ssc = StreamingContext(sc, 2)\n",
    "ssc.checkpoint(\"checkpoint_TwitterApp\")\n",
    "dataStream = ssc.socketTextStream(\"localhost\",9009) \n",
    "\n",
    "hashtags = dataStream.map(lambda x: (x, 1))\n",
    "tags_totals = hashtags.updateStateByKey(aggregate_tags_count)\n",
    "\n",
    "# On crée la DataFrames contenant les top 10 hashtags et on l'envoie à notre appli\n",
    "tags_totals.foreachRDD(process_rdd)\n",
    "\n",
    "\n",
    "ssc.start()\n",
    "ssc.awaitTermination()"
   ]
  },
  {
   "cell_type": "code",
   "execution_count": null,
   "metadata": {},
   "outputs": [],
   "source": []
  }
 ],
 "metadata": {
  "kernelspec": {
   "display_name": "Python 3",
   "language": "python",
   "name": "python3"
  },
  "language_info": {
   "codemirror_mode": {
    "name": "ipython",
    "version": 3
   },
   "file_extension": ".py",
   "mimetype": "text/x-python",
   "name": "python",
   "nbconvert_exporter": "python",
   "pygments_lexer": "ipython3",
   "version": "3.6.9"
  }
 },
 "nbformat": 4,
 "nbformat_minor": 4
}